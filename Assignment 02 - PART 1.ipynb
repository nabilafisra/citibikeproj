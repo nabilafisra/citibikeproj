{
 "cells": [
  {
   "cell_type": "markdown",
   "id": "12349e2d",
   "metadata": {},
   "source": [
    "# Part 1: Introduction and Getting Hands on The Data"
   ]
  },
  {
   "cell_type": "markdown",
   "id": "fa3243d5",
   "metadata": {},
   "source": [
    "This part aims to explore trends in recent data NYC 311 Service Request calls."
   ]
  },
  {
   "cell_type": "markdown",
   "id": "b9d98081",
   "metadata": {},
   "source": [
    "### Data Sources"
   ]
  },
  {
   "cell_type": "markdown",
   "id": "935bc7dc",
   "metadata": {},
   "source": [
    "- The 311 Service Requests (2010 to Present) from NYC Open Data\n",
    "This dataset contains information about the time, location, complaint type, and status of more than 24 millions 311 service requests made in New York City within the past decade.\n",
    "\n",
    "- NYC Department of City Planning's Community District Profiles\n",
    "This dataset contains development and population information for each Community District in New York City. Community Board names, which correspond to community districts, can also be found in the 311 dataset."
   ]
  },
  {
   "cell_type": "markdown",
   "id": "d9edca6d",
   "metadata": {},
   "source": [
    "## Obtaining the 311 Data\n",
    "In this part, we are getting our hands on the data first to see the sense of how big the data is and which part that we want to focus on."
   ]
  },
  {
   "cell_type": "code",
   "execution_count": 1,
   "id": "61f9083a",
   "metadata": {},
   "outputs": [],
   "source": [
    "# To ignore unimporant system warnings\n",
    "import warnings\n",
    "warnings.filterwarnings(\"ignore\")\n",
    "\n",
    "# We will use Pandas, Numpy, and Matplotlib which is a package for visualization with Python\n",
    "import pandas as pd\n",
    "import numpy as np\n",
    "\n",
    "# Load a required package \n",
    "# This is a library for accessing and parsing data through URLs\n",
    "from urllib.parse import urlencode\n",
    "import urllib.request, json \n",
    "\n",
    "import matplotlib.pyplot as plt\n",
    "import seaborn as sns # visualization styling package\n",
    "\n",
    "# A function that renders the figure in a notebook \n",
    "%matplotlib inline "
   ]
  },
  {
   "cell_type": "code",
   "execution_count": 2,
   "id": "a0d4f134",
   "metadata": {},
   "outputs": [],
   "source": [
    "# For this part, I use the csv format to load the data\n",
    "API = 'https://data.cityofnewyork.us/resource/erm2-nwe9.csv?'"
   ]
  },
  {
   "cell_type": "code",
   "execution_count": 3,
   "id": "dcd7e9ec",
   "metadata": {},
   "outputs": [
    {
     "data": {
      "text/html": [
       "<div>\n",
       "<style scoped>\n",
       "    .dataframe tbody tr th:only-of-type {\n",
       "        vertical-align: middle;\n",
       "    }\n",
       "\n",
       "    .dataframe tbody tr th {\n",
       "        vertical-align: top;\n",
       "    }\n",
       "\n",
       "    .dataframe thead th {\n",
       "        text-align: right;\n",
       "    }\n",
       "</style>\n",
       "<table border=\"1\" class=\"dataframe\">\n",
       "  <thead>\n",
       "    <tr style=\"text-align: right;\">\n",
       "      <th></th>\n",
       "      <th>unique_key</th>\n",
       "      <th>created_date</th>\n",
       "      <th>closed_date</th>\n",
       "      <th>agency</th>\n",
       "      <th>agency_name</th>\n",
       "      <th>complaint_type</th>\n",
       "      <th>descriptor</th>\n",
       "      <th>location_type</th>\n",
       "      <th>incident_zip</th>\n",
       "      <th>incident_address</th>\n",
       "      <th>...</th>\n",
       "      <th>vehicle_type</th>\n",
       "      <th>taxi_company_borough</th>\n",
       "      <th>taxi_pick_up_location</th>\n",
       "      <th>bridge_highway_name</th>\n",
       "      <th>bridge_highway_direction</th>\n",
       "      <th>road_ramp</th>\n",
       "      <th>bridge_highway_segment</th>\n",
       "      <th>latitude</th>\n",
       "      <th>longitude</th>\n",
       "      <th>location</th>\n",
       "    </tr>\n",
       "  </thead>\n",
       "  <tbody>\n",
       "    <tr>\n",
       "      <th>0</th>\n",
       "      <td>50615719</td>\n",
       "      <td>2021-05-20</td>\n",
       "      <td>2021-05-20T06:19:04.000</td>\n",
       "      <td>NYPD</td>\n",
       "      <td>New York City Police Department</td>\n",
       "      <td>Blocked Driveway</td>\n",
       "      <td>No Access</td>\n",
       "      <td>Street/Sidewalk</td>\n",
       "      <td>11432</td>\n",
       "      <td>85-10 KINGSTON PLACE</td>\n",
       "      <td>...</td>\n",
       "      <td>NaN</td>\n",
       "      <td>NaN</td>\n",
       "      <td>NaN</td>\n",
       "      <td>NaN</td>\n",
       "      <td>NaN</td>\n",
       "      <td>NaN</td>\n",
       "      <td>NaN</td>\n",
       "      <td>40.714722</td>\n",
       "      <td>-73.792810</td>\n",
       "      <td>\\n,  \\n(40.71472222322351, -73.79281026895278)</td>\n",
       "    </tr>\n",
       "    <tr>\n",
       "      <th>1</th>\n",
       "      <td>50617501</td>\n",
       "      <td>2021-05-20</td>\n",
       "      <td>2021-05-27T00:00:01.000</td>\n",
       "      <td>DOHMH</td>\n",
       "      <td>Department of Health and Mental Hygiene</td>\n",
       "      <td>Food Poisoning</td>\n",
       "      <td>1 or 2</td>\n",
       "      <td>Food Cart Vendor</td>\n",
       "      <td>11103</td>\n",
       "      <td>BROADWAY</td>\n",
       "      <td>...</td>\n",
       "      <td>NaN</td>\n",
       "      <td>NaN</td>\n",
       "      <td>NaN</td>\n",
       "      <td>NaN</td>\n",
       "      <td>NaN</td>\n",
       "      <td>NaN</td>\n",
       "      <td>NaN</td>\n",
       "      <td>40.758975</td>\n",
       "      <td>-73.919000</td>\n",
       "      <td>\\n,  \\n(40.758974640414664, -73.91899955159224)</td>\n",
       "    </tr>\n",
       "    <tr>\n",
       "      <th>2</th>\n",
       "      <td>50619934</td>\n",
       "      <td>2021-05-20</td>\n",
       "      <td>2021-05-20T14:13:30.000</td>\n",
       "      <td>DOHMH</td>\n",
       "      <td>Department of Health and Mental Hygiene</td>\n",
       "      <td>Food Poisoning</td>\n",
       "      <td>3 or More</td>\n",
       "      <td>Restaurant/Bar/Deli/Bakery</td>\n",
       "      <td>11419</td>\n",
       "      <td>115-18 95 AVENUE</td>\n",
       "      <td>...</td>\n",
       "      <td>NaN</td>\n",
       "      <td>NaN</td>\n",
       "      <td>NaN</td>\n",
       "      <td>NaN</td>\n",
       "      <td>NaN</td>\n",
       "      <td>NaN</td>\n",
       "      <td>NaN</td>\n",
       "      <td>40.691489</td>\n",
       "      <td>-73.830291</td>\n",
       "      <td>\\n,  \\n(40.691488711180696, -73.83029110907381)</td>\n",
       "    </tr>\n",
       "    <tr>\n",
       "      <th>3</th>\n",
       "      <td>50620098</td>\n",
       "      <td>2021-05-20</td>\n",
       "      <td>2021-05-27T00:00:01.000</td>\n",
       "      <td>DOHMH</td>\n",
       "      <td>Department of Health and Mental Hygiene</td>\n",
       "      <td>Food Poisoning</td>\n",
       "      <td>1 or 2</td>\n",
       "      <td>Food Cart Vendor</td>\n",
       "      <td>11375</td>\n",
       "      <td>107-26 71 AVENUE</td>\n",
       "      <td>...</td>\n",
       "      <td>NaN</td>\n",
       "      <td>NaN</td>\n",
       "      <td>NaN</td>\n",
       "      <td>NaN</td>\n",
       "      <td>NaN</td>\n",
       "      <td>NaN</td>\n",
       "      <td>NaN</td>\n",
       "      <td>40.720760</td>\n",
       "      <td>-73.844402</td>\n",
       "      <td>\\n,  \\n(40.72075965187039, -73.8444015846602)</td>\n",
       "    </tr>\n",
       "    <tr>\n",
       "      <th>4</th>\n",
       "      <td>50621455</td>\n",
       "      <td>2021-05-20</td>\n",
       "      <td>2021-05-27T12:40:26.000</td>\n",
       "      <td>DOHMH</td>\n",
       "      <td>Department of Health and Mental Hygiene</td>\n",
       "      <td>Food Poisoning</td>\n",
       "      <td>1 or 2</td>\n",
       "      <td>Other (Explain Below)</td>\n",
       "      <td>10306</td>\n",
       "      <td>2758 HYLAN BOULEVARD</td>\n",
       "      <td>...</td>\n",
       "      <td>NaN</td>\n",
       "      <td>NaN</td>\n",
       "      <td>NaN</td>\n",
       "      <td>NaN</td>\n",
       "      <td>NaN</td>\n",
       "      <td>NaN</td>\n",
       "      <td>NaN</td>\n",
       "      <td>40.564639</td>\n",
       "      <td>-74.115623</td>\n",
       "      <td>\\n,  \\n(40.56463935497431, -74.1156225488924)</td>\n",
       "    </tr>\n",
       "  </tbody>\n",
       "</table>\n",
       "<p>5 rows × 41 columns</p>\n",
       "</div>"
      ],
      "text/plain": [
       "   unique_key created_date              closed_date agency  \\\n",
       "0    50615719   2021-05-20  2021-05-20T06:19:04.000   NYPD   \n",
       "1    50617501   2021-05-20  2021-05-27T00:00:01.000  DOHMH   \n",
       "2    50619934   2021-05-20  2021-05-20T14:13:30.000  DOHMH   \n",
       "3    50620098   2021-05-20  2021-05-27T00:00:01.000  DOHMH   \n",
       "4    50621455   2021-05-20  2021-05-27T12:40:26.000  DOHMH   \n",
       "\n",
       "                               agency_name    complaint_type descriptor  \\\n",
       "0          New York City Police Department  Blocked Driveway  No Access   \n",
       "1  Department of Health and Mental Hygiene    Food Poisoning     1 or 2   \n",
       "2  Department of Health and Mental Hygiene    Food Poisoning  3 or More   \n",
       "3  Department of Health and Mental Hygiene    Food Poisoning     1 or 2   \n",
       "4  Department of Health and Mental Hygiene    Food Poisoning     1 or 2   \n",
       "\n",
       "                location_type incident_zip      incident_address  ...  \\\n",
       "0             Street/Sidewalk        11432  85-10 KINGSTON PLACE  ...   \n",
       "1            Food Cart Vendor        11103              BROADWAY  ...   \n",
       "2  Restaurant/Bar/Deli/Bakery        11419      115-18 95 AVENUE  ...   \n",
       "3            Food Cart Vendor        11375      107-26 71 AVENUE  ...   \n",
       "4       Other (Explain Below)        10306  2758 HYLAN BOULEVARD  ...   \n",
       "\n",
       "  vehicle_type taxi_company_borough taxi_pick_up_location bridge_highway_name  \\\n",
       "0          NaN                  NaN                   NaN                 NaN   \n",
       "1          NaN                  NaN                   NaN                 NaN   \n",
       "2          NaN                  NaN                   NaN                 NaN   \n",
       "3          NaN                  NaN                   NaN                 NaN   \n",
       "4          NaN                  NaN                   NaN                 NaN   \n",
       "\n",
       "  bridge_highway_direction road_ramp bridge_highway_segment   latitude  \\\n",
       "0                      NaN       NaN                    NaN  40.714722   \n",
       "1                      NaN       NaN                    NaN  40.758975   \n",
       "2                      NaN       NaN                    NaN  40.691489   \n",
       "3                      NaN       NaN                    NaN  40.720760   \n",
       "4                      NaN       NaN                    NaN  40.564639   \n",
       "\n",
       "   longitude                                         location  \n",
       "0 -73.792810   \\n,  \\n(40.71472222322351, -73.79281026895278)  \n",
       "1 -73.919000  \\n,  \\n(40.758974640414664, -73.91899955159224)  \n",
       "2 -73.830291  \\n,  \\n(40.691488711180696, -73.83029110907381)  \n",
       "3 -73.844402    \\n,  \\n(40.72075965187039, -73.8444015846602)  \n",
       "4 -74.115623    \\n,  \\n(40.56463935497431, -74.1156225488924)  \n",
       "\n",
       "[5 rows x 41 columns]"
      ]
     },
     "execution_count": 3,
     "metadata": {},
     "output_type": "execute_result"
    }
   ],
   "source": [
    "# Selected data from May 20, 2021 to June 30, 2021\n",
    "query = {'$select': '*',\n",
    "         '$where': 'created_date>=\"2021-05-20\" and created_date<\"2021-10-12\"', \n",
    "         '$limit': 1000000}\n",
    "\n",
    "df = pd.read_csv(API + urlencode(query), \n",
    "                 parse_dates = ['created_date'],\n",
    "                 dtype = {'incident_zip':'str'})\n",
    "df.head()"
   ]
  },
  {
   "cell_type": "code",
   "execution_count": 4,
   "id": "d3e69b94",
   "metadata": {},
   "outputs": [
    {
     "name": "stdout",
     "output_type": "stream",
     "text": [
      "1000000\n",
      "2021-05-20 00:00:00\n",
      "2021-09-18 19:45:16\n"
     ]
    }
   ],
   "source": [
    "print (len(df))\n",
    "print (df['created_date'].min())\n",
    "print (df['created_date'].max())"
   ]
  },
  {
   "cell_type": "code",
   "execution_count": 49,
   "id": "21551c19",
   "metadata": {},
   "outputs": [
    {
     "name": "stdout",
     "output_type": "stream",
     "text": [
      "Index(['unique_key', 'created_date', 'closed_date', 'agency', 'agency_name',\n",
      "       'complaint_type', 'descriptor', 'location_type', 'incident_zip',\n",
      "       'incident_address', 'street_name', 'cross_street_1', 'cross_street_2',\n",
      "       'intersection_street_1', 'intersection_street_2', 'address_type',\n",
      "       'city', 'landmark', 'facility_type', 'status', 'due_date',\n",
      "       'resolution_description', 'resolution_action_updated_date',\n",
      "       'community_board', 'bbl', 'borough', 'x_coordinate_state_plane',\n",
      "       'y_coordinate_state_plane', 'open_data_channel_type',\n",
      "       'park_facility_name', 'park_borough', 'vehicle_type',\n",
      "       'taxi_company_borough', 'taxi_pick_up_location', 'bridge_highway_name',\n",
      "       'bridge_highway_direction', 'road_ramp', 'bridge_highway_segment',\n",
      "       'latitude', 'longitude', 'location'],\n",
      "      dtype='object')\n"
     ]
    }
   ],
   "source": [
    "print (df.columns)"
   ]
  },
  {
   "cell_type": "markdown",
   "id": "61e62150",
   "metadata": {},
   "source": [
    "## Cleaning the Data\n",
    "In this part of cleaning the data, we want to remove unnecessary components/ columns and eliminate data with null values."
   ]
  },
  {
   "cell_type": "code",
   "execution_count": 50,
   "id": "e5405cc0",
   "metadata": {},
   "outputs": [
    {
     "name": "stdout",
     "output_type": "stream",
     "text": [
      "<class 'pandas.core.frame.DataFrame'>\n",
      "RangeIndex: 830907 entries, 0 to 830906\n",
      "Data columns (total 41 columns):\n",
      " #   Column                          Non-Null Count   Dtype         \n",
      "---  ------                          --------------   -----         \n",
      " 0   unique_key                      830907 non-null  int64         \n",
      " 1   created_date                    830907 non-null  datetime64[ns]\n",
      " 2   closed_date                     765155 non-null  object        \n",
      " 3   agency                          830907 non-null  object        \n",
      " 4   agency_name                     830907 non-null  object        \n",
      " 5   complaint_type                  830907 non-null  object        \n",
      " 6   descriptor                      793787 non-null  object        \n",
      " 7   location_type                   707589 non-null  object        \n",
      " 8   incident_zip                    805082 non-null  object        \n",
      " 9   incident_address                786294 non-null  object        \n",
      " 10  street_name                     786235 non-null  object        \n",
      " 11  cross_street_1                  686307 non-null  object        \n",
      " 12  cross_street_2                  686279 non-null  object        \n",
      " 13  intersection_street_1           612144 non-null  object        \n",
      " 14  intersection_street_2           612535 non-null  object        \n",
      " 15  address_type                    396495 non-null  object        \n",
      " 16  city                            763074 non-null  object        \n",
      " 17  landmark                        534840 non-null  object        \n",
      " 18  facility_type                   19241 non-null   object        \n",
      " 19  status                          830907 non-null  object        \n",
      " 20  due_date                        1139 non-null    object        \n",
      " 21  resolution_description          792461 non-null  object        \n",
      " 22  resolution_action_updated_date  795323 non-null  object        \n",
      " 23  community_board                 830907 non-null  object        \n",
      " 24  bbl                             708907 non-null  float64       \n",
      " 25  borough                         830907 non-null  object        \n",
      " 26  x_coordinate_state_plane        809611 non-null  float64       \n",
      " 27  y_coordinate_state_plane        809753 non-null  float64       \n",
      " 28  open_data_channel_type          830907 non-null  object        \n",
      " 29  park_facility_name              830153 non-null  object        \n",
      " 30  park_borough                    830907 non-null  object        \n",
      " 31  vehicle_type                    220 non-null     object        \n",
      " 32  taxi_company_borough            518 non-null     object        \n",
      " 33  taxi_pick_up_location           6197 non-null    object        \n",
      " 34  bridge_highway_name             10544 non-null   object        \n",
      " 35  bridge_highway_direction        4932 non-null    object        \n",
      " 36  road_ramp                       2120 non-null    object        \n",
      " 37  bridge_highway_segment          10522 non-null   object        \n",
      " 38  latitude                        809609 non-null  float64       \n",
      " 39  longitude                       809609 non-null  float64       \n",
      " 40  location                        809609 non-null  object        \n",
      "dtypes: datetime64[ns](1), float64(5), int64(1), object(34)\n",
      "memory usage: 259.9+ MB\n"
     ]
    }
   ],
   "source": [
    "df.info()"
   ]
  },
  {
   "cell_type": "code",
   "execution_count": 51,
   "id": "8f5dbc2e",
   "metadata": {},
   "outputs": [],
   "source": [
    "#eliminate rows without lat/long and location type data\n",
    "df = df[df.latitude.notnull()]\n",
    "df = df[df.longitude.notnull()]\n",
    "df = df[df.descriptor.notnull()]"
   ]
  },
  {
   "cell_type": "code",
   "execution_count": 52,
   "id": "f744c56d",
   "metadata": {},
   "outputs": [
    {
     "name": "stdout",
     "output_type": "stream",
     "text": [
      "Index(['created_date', 'complaint_type', 'agency', 'community_board',\n",
      "       'latitude', 'longitude', 'descriptor', 'borough'],\n",
      "      dtype='object')\n"
     ]
    }
   ],
   "source": [
    "#exclude unnecessary columns\n",
    "df = df[['created_date', 'complaint_type', 'agency', 'community_board', \n",
    "         'latitude', 'longitude', 'descriptor', 'borough']]\n",
    "print(df.columns)"
   ]
  },
  {
   "cell_type": "markdown",
   "id": "dfffd705",
   "metadata": {},
   "source": [
    "### Descriptions of The Selected Columns"
   ]
  },
  {
   "cell_type": "markdown",
   "id": "b8a1a554",
   "metadata": {},
   "source": [
    "The descriptions for every column are available on the dataset's NYCOpenData profile. For this Assignment's Analysis, the descriptions for the columns included are as follows:\n",
    "\n",
    "- Created Date: Date service request(SR) was created\n",
    "- Complaint Type: This is the first level of a hierarchy identifying the topic of the incident or condition. Complaint Type may have a corresponding Descriptor (below) or may stand alone.\n",
    "- Agency: Acronym of responding City Government Agency\n",
    "- Community Board: Provided by geovalidation.\n",
    "- Latitude: Geo based Lat of the incident location\n",
    "- Longitude: eo based Long of the incident location\n",
    "- Descriptor: This is associated to the Complaint Type, and provides further detail on the incident or condition. Descriptor values are dependent on the Complaint Type, and are not always required in SR.\n",
    "- Borough: Provided by the submitter and confirmed by geovalidation."
   ]
  },
  {
   "cell_type": "markdown",
   "id": "52cbe5e9",
   "metadata": {},
   "source": [
    "### Reformatting Values for Consistency"
   ]
  },
  {
   "cell_type": "code",
   "execution_count": 53,
   "id": "ca28e510",
   "metadata": {},
   "outputs": [
    {
     "data": {
      "text/plain": [
       "array(['Water System', 'Illegal Parking', 'Noise - Street/Sidewalk',\n",
       "       'Street Condition', 'Street Light Condition',\n",
       "       'Noise - Residential', 'Noise - Commercial', 'New Tree Request',\n",
       "       'Blocked Driveway', 'HEAT/HOT WATER', 'Noise - Vehicle',\n",
       "       'PLUMBING', 'Lost Property', 'Noise', 'Traffic Signal Condition',\n",
       "       'WATER LEAK', 'PAINT/PLASTER', 'Consumer Complaint',\n",
       "       'Curb Condition', 'Taxi Complaint', 'Elevator', 'Noise - Park',\n",
       "       'Abandoned Vehicle', 'Rodent', 'Food Establishment',\n",
       "       'Emergency Response Team (ERT)', 'General Construction/Plumbing',\n",
       "       'Non-Emergency Police Matter', 'UNSANITARY CONDITION',\n",
       "       'FLOORING/STAIRS', 'ELECTRIC', 'DOOR/WINDOW', 'SAFETY', 'GENERAL',\n",
       "       'Sewer', 'Air Quality', 'Dirty Conditions', 'Pet Shop',\n",
       "       'Maintenance or Facility', 'APPLIANCE',\n",
       "       'Unsanitary Animal Pvt Property', 'Other Enforcement',\n",
       "       'Sanitation Condition', 'Indoor Air Quality', 'ELEVATOR',\n",
       "       'LinkNYC', 'Traffic', 'Plumbing', 'Drinking', 'Building/Use',\n",
       "       'Damaged Tree', 'For Hire Vehicle Complaint',\n",
       "       'Missed Collection (All Materials)',\n",
       "       'Root/Sewer/Sidewalk Condition', 'Overgrown Tree/Branches',\n",
       "       'Dead/Dying Tree', 'Broken Parking Meter', 'Sidewalk Condition',\n",
       "       'Animal in a Park', 'Water Quality',\n",
       "       'NonCompliance with Phased Reopening', 'Harboring Bees/Wasps',\n",
       "       'Boilers', 'Mobile Food Vendor', 'Bus Stop Shelter Complaint',\n",
       "       'Mosquitoes', 'Standing Water', 'Day Care', 'Noise - Helicopter',\n",
       "       'Illegal Tree Damage', 'Disorderly Youth',\n",
       "       'For Hire Vehicle Report', 'Street Sign - Damaged',\n",
       "       'Violation of Park Rules', 'Wood Pile Remaining',\n",
       "       'Street Sign - Missing', 'Lead', 'Graffiti', 'Drug Activity',\n",
       "       'Taxi Report', 'OUTSIDE BUILDING', 'Water Conservation',\n",
       "       'Street Sign - Dangling', 'Animal-Abuse', 'Industrial Waste',\n",
       "       'Investigations and Discipline (IAD)', 'Outdoor Dining',\n",
       "       'Uprooted Stump', 'Illegal Animal Kept as Pet',\n",
       "       'Special Projects Inspection Team (SPIT)',\n",
       "       'Construction Lead Dust', 'Asbestos',\n",
       "       'Unsanitary Pigeon Condition', 'Hazardous Materials',\n",
       "       'School Maintenance', 'Smoking', 'Unsanitary Animal Facility',\n",
       "       'Electrical', 'Derelict Vehicles', 'Beach/Pool/Sauna Complaint',\n",
       "       'Indoor Sewage', 'Food Poisoning', 'Bike Rack Condition',\n",
       "       'Bottled Water', 'Dept of Investigations', 'Borough Office',\n",
       "       'Bus Stop Shelter Placement', 'Unleashed Dog', 'Scaffold Safety',\n",
       "       'Derelict Bicycle', 'Executive Inspections', 'BEST/Site Safety',\n",
       "       'Cranes and Derricks', 'Mold', 'Green Taxi Complaint',\n",
       "       'Found Property', 'Vacant Lot', 'Recycling Enforcement',\n",
       "       'Tattooing', 'Drinking Water', 'Noise - House of Worship',\n",
       "       'DEP Street Condition', 'Lifeguard',\n",
       "       'COVID-19 Non-essential Construction', 'Window Guard',\n",
       "       'Municipal Parking Facility', 'Homeless Person Assistance',\n",
       "       'Taxi Licensee Complaint', 'Public Toilet', 'Sweeping/Inadequate',\n",
       "       'Plant', 'Green Taxi Report', 'Illegal Animal Sold',\n",
       "       'Cooling Tower', 'Public Payphone Complaint',\n",
       "       'FHV Licensee Complaint', 'Radioactive Material',\n",
       "       'Taxi Compliment', 'X-Ray Machine/Equipment', 'Missed Collection',\n",
       "       'Collection Truck Noise', 'Posting Advertisement', 'E-Scooter',\n",
       "       'Litter Basket / Request', 'Mass Gathering Complaint',\n",
       "       'Overflowing Litter Baskets',\n",
       "       'Special Natural Area District (SNAD)',\n",
       "       'Vaccine Mandate Non-Compliance', 'Abandoned Bike',\n",
       "       'Highway Sign - Damaged', 'Storm', 'Dispatched Taxi Complaint',\n",
       "       'Highway Condition', 'Change Collection Schedule',\n",
       "       'Miscellaneous Categories', 'Dirty Condition', 'Calorie Labeling',\n",
       "       'Building Condition', 'Commercial Disposal Complaint',\n",
       "       'Lot Condition', 'Sanitation Worker or Vehicle Complaint',\n",
       "       'Illegal Dumping', 'Litter Basket Request',\n",
       "       'Residential Disposal Complaint', 'Obstruction',\n",
       "       'Litter Basket Complaint', 'Illegal Posting', 'Dead Animal',\n",
       "       'Dumpster Complaint', 'Street Sweeping Complaint', 'DSNY Internal',\n",
       "       'Institution Disposal Complaint', 'Transfer Station Complaint',\n",
       "       'Non-Residential Heat', 'DEP Highway Condition'], dtype=object)"
      ]
     },
     "execution_count": 53,
     "metadata": {},
     "output_type": "execute_result"
    }
   ],
   "source": [
    "# Here, we want to convert all of the values in the column to title case\n",
    "df.complaint_type.unique()"
   ]
  },
  {
   "cell_type": "code",
   "execution_count": 54,
   "id": "24dd291b",
   "metadata": {},
   "outputs": [
    {
     "data": {
      "text/plain": [
       "array(['DEP', 'NYPD', 'DOT', 'DPR', 'HPD', 'TLC', 'DCA', 'DOB', 'DOHMH',\n",
       "       'DSNY', 'DOITT', 'MAYORâ\\x80\\x99S OFFICE OF SPECIAL ENFORCEMENT',\n",
       "       'EDC', 'DOE', 'DHS'], dtype=object)"
      ]
     },
     "execution_count": 54,
     "metadata": {},
     "output_type": "execute_result"
    }
   ],
   "source": [
    "# The values in the 'agency' column also have inconsistent formatting\n",
    "df.agency.unique()"
   ]
  },
  {
   "cell_type": "code",
   "execution_count": 55,
   "id": "06fede53",
   "metadata": {},
   "outputs": [
    {
     "data": {
      "text/plain": [
       "['Noise - Street/Sidewalk',\n",
       " 'Noise - Residential',\n",
       " 'Noise - Commercial',\n",
       " 'Noise - Vehicle',\n",
       " 'Noise',\n",
       " 'Noise - Park',\n",
       " 'Noise - Helicopter',\n",
       " 'Noise - House of Worship']"
      ]
     },
     "execution_count": 55,
     "metadata": {},
     "output_type": "execute_result"
    }
   ],
   "source": [
    "# Among noise-related complaints, only one does not specify the noise source:\n",
    "noise_columns = []\n",
    "\n",
    "for i in df.complaint_type:\n",
    "    if i.startswith('Noise') and i not in noise_columns:\n",
    "        noise_columns.append(i)\n",
    "noise_columns"
   ]
  },
  {
   "cell_type": "code",
   "execution_count": 56,
   "id": "8c74c269",
   "metadata": {},
   "outputs": [],
   "source": [
    "# From the result above, we found that there's one generic 'Noise'\n",
    "# Below, I will convert the \"Noise' only value to 'Noise - Unspecified' to match other similar complaint types\n",
    "\n",
    "def update_noise(complaint):\n",
    "    if complaint == 'Noise':\n",
    "        return \"Noise - Unspecified\"\n",
    "    else:\n",
    "        return complaint\n",
    "df.complaint_type = df.complaint_type.map(\n",
    "    lambda complaint: update_noise(complaint))"
   ]
  },
  {
   "cell_type": "markdown",
   "id": "ad31cc27",
   "metadata": {},
   "source": [
    "### Convert Date value to string values\n",
    "The 'created_date' column currently contains string values. Next, we will convert those 'created_date' string values to a datetime object."
   ]
  },
  {
   "cell_type": "code",
   "execution_count": 57,
   "id": "a01ef915",
   "metadata": {},
   "outputs": [
    {
     "data": {
      "text/plain": [
       "pandas._libs.tslibs.timestamps.Timestamp"
      ]
     },
     "execution_count": 57,
     "metadata": {},
     "output_type": "execute_result"
    }
   ],
   "source": [
    "# Identify the 'created_date' value\n",
    "type(df.created_date[1])"
   ]
  },
  {
   "cell_type": "code",
   "execution_count": 58,
   "id": "3eed9e9e",
   "metadata": {},
   "outputs": [],
   "source": [
    "# Convert each string value to a datetime object using 'pandas.to_datetime()'\n",
    "df['created_date'] = pd.to_datetime(df['created_date'],\n",
    "                                   format = '%Y-%m-%dT%H:%M:%S.%f')"
   ]
  },
  {
   "cell_type": "code",
   "execution_count": 59,
   "id": "4887f80b",
   "metadata": {},
   "outputs": [
    {
     "data": {
      "text/plain": [
       "pandas._libs.tslibs.timestamps.Timestamp"
      ]
     },
     "execution_count": 59,
     "metadata": {},
     "output_type": "execute_result"
    }
   ],
   "source": [
    "# Confirm the new data type for 'created-data'\n",
    "type (df['created_date'][1])"
   ]
  },
  {
   "cell_type": "markdown",
   "id": "1e8188eb",
   "metadata": {},
   "source": [
    "### Create columns with datetime format: day, month, day of week, and hour\n",
    "Using the datetime format, we can now create new columns with the day, month, day of week, and hour of each call. This will be useful for exploring the independent relationship of each variable to other characteristics of the calls."
   ]
  },
  {
   "cell_type": "code",
   "execution_count": 60,
   "id": "3479c1ca",
   "metadata": {},
   "outputs": [],
   "source": [
    "df ['day'] = [str(i.date()) for i in df.created_date]\n",
    "df['month'] = [int(i.month) for i in df.created_date]\n",
    "df['day_of_week'] = [int(i.weekday()) for i in df.created_date]\n",
    "df['hour'] = [int(i.hour) for i in df.created_date]"
   ]
  },
  {
   "cell_type": "code",
   "execution_count": 61,
   "id": "fa81938b",
   "metadata": {},
   "outputs": [
    {
     "name": "stdout",
     "output_type": "stream",
     "text": [
      "              created_date           complaint_type agency community_board  \\\n",
      "830906 2021-10-11 23:59:55          Illegal Parking   NYPD        10 BRONX   \n",
      "830905 2021-10-11 23:59:43          Noise - Vehicle   NYPD        05 BRONX   \n",
      "830904 2021-10-11 23:59:27         Blocked Driveway   NYPD        09 BRONX   \n",
      "830903 2021-10-11 23:59:24       Noise - Commercial   NYPD     04 BROOKLYN   \n",
      "830902 2021-10-11 23:59:21          Noise - Vehicle   NYPD    10 MANHATTAN   \n",
      "...                    ...                      ...    ...             ...   \n",
      "4      2021-07-01 00:00:41  Noise - Street/Sidewalk   NYPD     14 BROOKLYN   \n",
      "3      2021-07-01 00:00:30          Illegal Parking   NYPD     10 BROOKLYN   \n",
      "2      2021-07-01 00:00:05          Illegal Parking   NYPD     14 BROOKLYN   \n",
      "1      2021-07-01 00:00:00             Water System    DEP     08 BROOKLYN   \n",
      "0      2021-07-01 00:00:00             Water System    DEP        07 BRONX   \n",
      "\n",
      "         latitude  longitude                     descriptor    borough  \\\n",
      "830906  40.817968 -73.808002   Commercial Overnight Parking      BRONX   \n",
      "830905  40.856038 -73.903250                Car/Truck Music      BRONX   \n",
      "830904  40.832320 -73.874329                      No Access      BRONX   \n",
      "830903  40.697046 -73.934733               Loud Music/Party   BROOKLYN   \n",
      "830902  40.811576 -73.950158                 Car/Truck Horn  MANHATTAN   \n",
      "...           ...        ...                            ...        ...   \n",
      "4       40.653306 -73.960573               Loud Music/Party   BROOKLYN   \n",
      "3       40.633366 -74.029972  Posted Parking Sign Violation   BROOKLYN   \n",
      "2       40.630444 -73.975368  Posted Parking Sign Violation   BROOKLYN   \n",
      "1       40.675926 -73.960534   Fire Hydrant Emergency (FHE)   BROOKLYN   \n",
      "0       40.867584 -73.893215   Fire Hydrant Emergency (FHE)      BRONX   \n",
      "\n",
      "               day  month  day_of_week  hour  \n",
      "830906  2021-10-11     10            0    23  \n",
      "830905  2021-10-11     10            0    23  \n",
      "830904  2021-10-11     10            0    23  \n",
      "830903  2021-10-11     10            0    23  \n",
      "830902  2021-10-11     10            0    23  \n",
      "...            ...    ...          ...   ...  \n",
      "4       2021-07-01      7            3     0  \n",
      "3       2021-07-01      7            3     0  \n",
      "2       2021-07-01      7            3     0  \n",
      "1       2021-07-01      7            3     0  \n",
      "0       2021-07-01      7            3     0  \n",
      "\n",
      "[773032 rows x 12 columns]\n"
     ]
    }
   ],
   "source": [
    "#reorder df from least-most recent calls\n",
    "df = df.reindex(index=df.index[::-1])\n",
    "print(df)"
   ]
  },
  {
   "cell_type": "code",
   "execution_count": 62,
   "id": "f3986ccf",
   "metadata": {},
   "outputs": [
    {
     "data": {
      "text/plain": [
       "array(['Commercial Overnight Parking', 'Car/Truck Music', 'No Access',\n",
       "       'Loud Music/Party', 'Car/Truck Horn', 'Blocked Hydrant', 'Vendor',\n",
       "       'Banging/Pounding', 'Noise: Construction Before/After Hours (NM1)',\n",
       "       'Rough, Pitted or Cracked Roads', 'Loud Television',\n",
       "       'Lamppost Knocked Down', 'MOLD', 'Broken Sidewalk', 'Loud Talking',\n",
       "       'Street Light Out', 'Engine Idling', 'Blocked Sidewalk',\n",
       "       'Noise: air condition/ventilation equipment (NV1)',\n",
       "       'Signs of Rodents'], dtype=object)"
      ]
     },
     "execution_count": 62,
     "metadata": {},
     "output_type": "execute_result"
    }
   ],
   "source": [
    "#preview sample of unique descriptors with non-letters removed\n",
    "df.descriptor.unique()[0:20]"
   ]
  },
  {
   "cell_type": "markdown",
   "id": "539d0c89",
   "metadata": {},
   "source": [
    "## Merging the Community District Indicators Data with 311 Service Requests Data\n",
    "This part will be started by taking a look into the community district indicators data. Next, we will be merging other relevant information obtained of Community District Indicators data to our 311 Service Request data."
   ]
  },
  {
   "cell_type": "code",
   "execution_count": 63,
   "id": "f51df06d",
   "metadata": {},
   "outputs": [
    {
     "data": {
      "text/html": [
       "<div>\n",
       "<style scoped>\n",
       "    .dataframe tbody tr th:only-of-type {\n",
       "        vertical-align: middle;\n",
       "    }\n",
       "\n",
       "    .dataframe tbody tr th {\n",
       "        vertical-align: top;\n",
       "    }\n",
       "\n",
       "    .dataframe thead th {\n",
       "        text-align: right;\n",
       "    }\n",
       "</style>\n",
       "<table border=\"1\" class=\"dataframe\">\n",
       "  <thead>\n",
       "    <tr style=\"text-align: right;\">\n",
       "      <th></th>\n",
       "      <th>the_geom</th>\n",
       "      <th>cartodb_id</th>\n",
       "      <th>the_geom_webmercator</th>\n",
       "      <th>acres</th>\n",
       "      <th>acs_tooltip</th>\n",
       "      <th>acs_tooltip_2</th>\n",
       "      <th>acs_tooltip_3</th>\n",
       "      <th>area_sqmi</th>\n",
       "      <th>borocd</th>\n",
       "      <th>cb_email</th>\n",
       "      <th>...</th>\n",
       "      <th>under18_rate</th>\n",
       "      <th>under18_rate_boro</th>\n",
       "      <th>under18_rate_nyc</th>\n",
       "      <th>unemployment_boro</th>\n",
       "      <th>unemployment</th>\n",
       "      <th>unemployment_nyc</th>\n",
       "      <th>v_pluto</th>\n",
       "      <th>v_acs</th>\n",
       "      <th>v_facdb</th>\n",
       "      <th>v_crime</th>\n",
       "    </tr>\n",
       "  </thead>\n",
       "  <tbody>\n",
       "    <tr>\n",
       "      <th>0</th>\n",
       "      <td>NaN</td>\n",
       "      <td>1</td>\n",
       "      <td>NaN</td>\n",
       "      <td>976.3</td>\n",
       "      <td>American Community Survey 2014-2018 5-Year Est...</td>\n",
       "      <td>American Community Survey (ACS) 2013-2017 5-ye...</td>\n",
       "      <td>2010 Census population counts for floodplain a...</td>\n",
       "      <td>1.5</td>\n",
       "      <td>101</td>\n",
       "      <td>man01@cb.nyc.gov</td>\n",
       "      <td>...</td>\n",
       "      <td>12.7</td>\n",
       "      <td>14.4</td>\n",
       "      <td>20.9</td>\n",
       "      <td>3.8</td>\n",
       "      <td>2.8</td>\n",
       "      <td>4.4</td>\n",
       "      <td>20v4</td>\n",
       "      <td>Y2014-2018</td>\n",
       "      <td>6/24/20</td>\n",
       "      <td>2019</td>\n",
       "    </tr>\n",
       "    <tr>\n",
       "      <th>1</th>\n",
       "      <td>NaN</td>\n",
       "      <td>2</td>\n",
       "      <td>NaN</td>\n",
       "      <td>865.9</td>\n",
       "      <td>American Community Survey 2014-2018 5-Year Est...</td>\n",
       "      <td>American Community Survey (ACS) 2013-2017 5-ye...</td>\n",
       "      <td>2010 Census population counts for floodplain a...</td>\n",
       "      <td>1.4</td>\n",
       "      <td>102</td>\n",
       "      <td>bgormley@cb.nyc.gov</td>\n",
       "      <td>...</td>\n",
       "      <td>12.7</td>\n",
       "      <td>14.4</td>\n",
       "      <td>20.9</td>\n",
       "      <td>3.8</td>\n",
       "      <td>2.8</td>\n",
       "      <td>4.4</td>\n",
       "      <td>20v4</td>\n",
       "      <td>Y2014-2018</td>\n",
       "      <td>6/24/20</td>\n",
       "      <td>2019</td>\n",
       "    </tr>\n",
       "    <tr>\n",
       "      <th>2</th>\n",
       "      <td>NaN</td>\n",
       "      <td>3</td>\n",
       "      <td>NaN</td>\n",
       "      <td>1076.9</td>\n",
       "      <td>American Community Survey 2014-2018 5-Year Est...</td>\n",
       "      <td>American Community Survey (ACS) 2013-2017 5-ye...</td>\n",
       "      <td>2010 Census population counts for floodplain a...</td>\n",
       "      <td>1.7</td>\n",
       "      <td>103</td>\n",
       "      <td>mn03@cb.nyc.gov</td>\n",
       "      <td>...</td>\n",
       "      <td>11.4</td>\n",
       "      <td>14.4</td>\n",
       "      <td>20.9</td>\n",
       "      <td>3.8</td>\n",
       "      <td>3.6</td>\n",
       "      <td>4.4</td>\n",
       "      <td>20v4</td>\n",
       "      <td>Y2014-2018</td>\n",
       "      <td>6/24/20</td>\n",
       "      <td>2019</td>\n",
       "    </tr>\n",
       "    <tr>\n",
       "      <th>3</th>\n",
       "      <td>NaN</td>\n",
       "      <td>4</td>\n",
       "      <td>NaN</td>\n",
       "      <td>1131.6</td>\n",
       "      <td>American Community Survey 2014-2018 5-Year Est...</td>\n",
       "      <td>American Community Survey (ACS) 2013-2017 5-ye...</td>\n",
       "      <td>2010 Census population counts for floodplain a...</td>\n",
       "      <td>1.8</td>\n",
       "      <td>104</td>\n",
       "      <td>jbodine@cb.nyc.gov</td>\n",
       "      <td>...</td>\n",
       "      <td>8.2</td>\n",
       "      <td>14.4</td>\n",
       "      <td>20.9</td>\n",
       "      <td>3.8</td>\n",
       "      <td>3.5</td>\n",
       "      <td>4.4</td>\n",
       "      <td>20v4</td>\n",
       "      <td>Y2014-2018</td>\n",
       "      <td>6/24/20</td>\n",
       "      <td>2019</td>\n",
       "    </tr>\n",
       "    <tr>\n",
       "      <th>4</th>\n",
       "      <td>NaN</td>\n",
       "      <td>5</td>\n",
       "      <td>NaN</td>\n",
       "      <td>1005.4</td>\n",
       "      <td>American Community Survey 2014-2018 5-Year Est...</td>\n",
       "      <td>American Community Survey (ACS) 2013-2017 5-ye...</td>\n",
       "      <td>2010 Census population counts for floodplain a...</td>\n",
       "      <td>1.6</td>\n",
       "      <td>105</td>\n",
       "      <td>office@cb5.org</td>\n",
       "      <td>...</td>\n",
       "      <td>8.2</td>\n",
       "      <td>14.4</td>\n",
       "      <td>20.9</td>\n",
       "      <td>3.8</td>\n",
       "      <td>3.5</td>\n",
       "      <td>4.4</td>\n",
       "      <td>20v4</td>\n",
       "      <td>Y2014-2018</td>\n",
       "      <td>6/24/20</td>\n",
       "      <td>2019</td>\n",
       "    </tr>\n",
       "  </tbody>\n",
       "</table>\n",
       "<p>5 rows × 188 columns</p>\n",
       "</div>"
      ],
      "text/plain": [
       "   the_geom  cartodb_id  the_geom_webmercator   acres  \\\n",
       "0       NaN           1                   NaN   976.3   \n",
       "1       NaN           2                   NaN   865.9   \n",
       "2       NaN           3                   NaN  1076.9   \n",
       "3       NaN           4                   NaN  1131.6   \n",
       "4       NaN           5                   NaN  1005.4   \n",
       "\n",
       "                                         acs_tooltip  \\\n",
       "0  American Community Survey 2014-2018 5-Year Est...   \n",
       "1  American Community Survey 2014-2018 5-Year Est...   \n",
       "2  American Community Survey 2014-2018 5-Year Est...   \n",
       "3  American Community Survey 2014-2018 5-Year Est...   \n",
       "4  American Community Survey 2014-2018 5-Year Est...   \n",
       "\n",
       "                                       acs_tooltip_2  \\\n",
       "0  American Community Survey (ACS) 2013-2017 5-ye...   \n",
       "1  American Community Survey (ACS) 2013-2017 5-ye...   \n",
       "2  American Community Survey (ACS) 2013-2017 5-ye...   \n",
       "3  American Community Survey (ACS) 2013-2017 5-ye...   \n",
       "4  American Community Survey (ACS) 2013-2017 5-ye...   \n",
       "\n",
       "                                       acs_tooltip_3  area_sqmi  borocd  \\\n",
       "0  2010 Census population counts for floodplain a...        1.5     101   \n",
       "1  2010 Census population counts for floodplain a...        1.4     102   \n",
       "2  2010 Census population counts for floodplain a...        1.7     103   \n",
       "3  2010 Census population counts for floodplain a...        1.8     104   \n",
       "4  2010 Census population counts for floodplain a...        1.6     105   \n",
       "\n",
       "              cb_email  ... under18_rate under18_rate_boro under18_rate_nyc  \\\n",
       "0     man01@cb.nyc.gov  ...         12.7              14.4             20.9   \n",
       "1  bgormley@cb.nyc.gov  ...         12.7              14.4             20.9   \n",
       "2      mn03@cb.nyc.gov  ...         11.4              14.4             20.9   \n",
       "3   jbodine@cb.nyc.gov  ...          8.2              14.4             20.9   \n",
       "4       office@cb5.org  ...          8.2              14.4             20.9   \n",
       "\n",
       "   unemployment_boro  unemployment  unemployment_nyc  v_pluto       v_acs  \\\n",
       "0                3.8           2.8               4.4     20v4  Y2014-2018   \n",
       "1                3.8           2.8               4.4     20v4  Y2014-2018   \n",
       "2                3.8           3.6               4.4     20v4  Y2014-2018   \n",
       "3                3.8           3.5               4.4     20v4  Y2014-2018   \n",
       "4                3.8           3.5               4.4     20v4  Y2014-2018   \n",
       "\n",
       "   v_facdb  v_crime  \n",
       "0  6/24/20     2019  \n",
       "1  6/24/20     2019  \n",
       "2  6/24/20     2019  \n",
       "3  6/24/20     2019  \n",
       "4  6/24/20     2019  \n",
       "\n",
       "[5 rows x 188 columns]"
      ]
     },
     "execution_count": 63,
     "metadata": {},
     "output_type": "execute_result"
    }
   ],
   "source": [
    "path = '../nfh2118/Assignment 02/Queens-4-indicators.csv'\n",
    "indicators_df = pd.read_csv(path)\n",
    "\n",
    "indicators_df.head()"
   ]
  },
  {
   "cell_type": "code",
   "execution_count": 64,
   "id": "6d86e82f",
   "metadata": {},
   "outputs": [
    {
     "name": "stdout",
     "output_type": "stream",
     "text": [
      "<class 'pandas.core.frame.DataFrame'>\n",
      "RangeIndex: 59 entries, 0 to 58\n",
      "Columns: 188 entries, the_geom to v_crime\n",
      "dtypes: bool(1), float64(121), int64(51), object(15)\n",
      "memory usage: 86.4+ KB\n"
     ]
    }
   ],
   "source": [
    "indicators_df.info()"
   ]
  },
  {
   "cell_type": "markdown",
   "id": "09ebd0e1",
   "metadata": {},
   "source": [
    "Next, we will narrow down our selection to variables related to demographic, social and economic indicators. Most of the indicators column names are pretty mush self-explanatory. However, to better understans their meanings, the full list of column descriptions can be accessed through the community district profile website in the 'Indicators Data Dictionary' file."
   ]
  },
  {
   "cell_type": "code",
   "execution_count": 65,
   "id": "9b2b94d2",
   "metadata": {},
   "outputs": [],
   "source": [
    "indicators_df = indicators_df[[\n",
    "'cd_short_title', \n",
    "'area_sqmi',\n",
    "'count_hosp_clinic',\n",
    "'count_libraries',\n",
    "'count_parks',\n",
    "'count_public_schools',\n",
    "'crime_per_1000',\n",
    "'female_15_19',\n",
    "'female_20_24',\n",
    "'female_25_29',\n",
    "'female_30_34',\n",
    "'female_35_39',\n",
    "'female_40_44',\n",
    "'female_45_49',\n",
    "'female_50_54',\n",
    "'female_55_59',\n",
    "'female_60_64',\n",
    "'male_10_14',\n",
    "'male_15_19',\n",
    "'male_20_24',\n",
    "'male_25_29',\n",
    "'male_30_34',\n",
    "'male_35_39',\n",
    "'male_40_44',\n",
    "'male_45_49',\n",
    "'male_50_54',\n",
    "'male_55_59',\n",
    "'male_60_64',\n",
    "'under18_rate',\n",
    "'over65_rate',\n",
    "'lots_total',\n",
    "'lots_vacant',\n",
    "'pct_white_nh',\n",
    "'pct_black_nh',\n",
    "'pct_asian_nh',\n",
    "'pct_other_nh',\n",
    "'pct_hispanic',\n",
    "'mean_commute',\n",
    "'pop_change_00_10',\n",
    "'pct_clean_strts',\n",
    "'unemployment',\n",
    "'poverty_rate',\n",
    "'lep_rate_boro',\n",
    "'pct_hh_rent_burd'\n",
    "]]"
   ]
  },
  {
   "cell_type": "code",
   "execution_count": 66,
   "id": "c2eb933b",
   "metadata": {},
   "outputs": [
    {
     "data": {
      "text/html": [
       "<div>\n",
       "<style scoped>\n",
       "    .dataframe tbody tr th:only-of-type {\n",
       "        vertical-align: middle;\n",
       "    }\n",
       "\n",
       "    .dataframe tbody tr th {\n",
       "        vertical-align: top;\n",
       "    }\n",
       "\n",
       "    .dataframe thead th {\n",
       "        text-align: right;\n",
       "    }\n",
       "</style>\n",
       "<table border=\"1\" class=\"dataframe\">\n",
       "  <thead>\n",
       "    <tr style=\"text-align: right;\">\n",
       "      <th></th>\n",
       "      <th>area_sqmi</th>\n",
       "      <th>count_hosp_clinic</th>\n",
       "      <th>count_libraries</th>\n",
       "      <th>count_parks</th>\n",
       "      <th>count_public_schools</th>\n",
       "      <th>crime_per_1000</th>\n",
       "      <th>female_15_19</th>\n",
       "      <th>female_20_24</th>\n",
       "      <th>female_25_29</th>\n",
       "      <th>female_30_34</th>\n",
       "      <th>...</th>\n",
       "      <th>pct_asian_nh</th>\n",
       "      <th>pct_other_nh</th>\n",
       "      <th>pct_hispanic</th>\n",
       "      <th>mean_commute</th>\n",
       "      <th>pop_change_00_10</th>\n",
       "      <th>pct_clean_strts</th>\n",
       "      <th>unemployment</th>\n",
       "      <th>poverty_rate</th>\n",
       "      <th>lep_rate_boro</th>\n",
       "      <th>pct_hh_rent_burd</th>\n",
       "    </tr>\n",
       "  </thead>\n",
       "  <tbody>\n",
       "    <tr>\n",
       "      <th>mean</th>\n",
       "      <td>4.613559</td>\n",
       "      <td>22.898305</td>\n",
       "      <td>3.677966</td>\n",
       "      <td>6.915254</td>\n",
       "      <td>25.694915</td>\n",
       "      <td>10.205085</td>\n",
       "      <td>2.720339</td>\n",
       "      <td>3.540678</td>\n",
       "      <td>4.883051</td>\n",
       "      <td>4.398305</td>\n",
       "      <td>...</td>\n",
       "      <td>13.088136</td>\n",
       "      <td>2.927119</td>\n",
       "      <td>29.898305</td>\n",
       "      <td>41.238983</td>\n",
       "      <td>0.038475</td>\n",
       "      <td>94.064407</td>\n",
       "      <td>4.513559</td>\n",
       "      <td>19.940678</td>\n",
       "      <td>23.049153</td>\n",
       "      <td>44.723729</td>\n",
       "    </tr>\n",
       "    <tr>\n",
       "      <th>std</th>\n",
       "      <td>4.295164</td>\n",
       "      <td>13.101323</td>\n",
       "      <td>1.665478</td>\n",
       "      <td>4.035567</td>\n",
       "      <td>8.987068</td>\n",
       "      <td>4.627594</td>\n",
       "      <td>0.683243</td>\n",
       "      <td>0.844887</td>\n",
       "      <td>1.364848</td>\n",
       "      <td>1.113629</td>\n",
       "      <td>...</td>\n",
       "      <td>12.294884</td>\n",
       "      <td>2.074129</td>\n",
       "      <td>20.544053</td>\n",
       "      <td>6.309572</td>\n",
       "      <td>0.111801</td>\n",
       "      <td>3.076146</td>\n",
       "      <td>1.465518</td>\n",
       "      <td>6.824982</td>\n",
       "      <td>5.305637</td>\n",
       "      <td>7.550322</td>\n",
       "    </tr>\n",
       "    <tr>\n",
       "      <th>min</th>\n",
       "      <td>1.400000</td>\n",
       "      <td>1.000000</td>\n",
       "      <td>1.000000</td>\n",
       "      <td>1.000000</td>\n",
       "      <td>8.000000</td>\n",
       "      <td>2.600000</td>\n",
       "      <td>1.100000</td>\n",
       "      <td>1.800000</td>\n",
       "      <td>2.900000</td>\n",
       "      <td>3.000000</td>\n",
       "      <td>...</td>\n",
       "      <td>0.700000</td>\n",
       "      <td>1.200000</td>\n",
       "      <td>6.500000</td>\n",
       "      <td>25.400000</td>\n",
       "      <td>-0.100000</td>\n",
       "      <td>85.100000</td>\n",
       "      <td>2.000000</td>\n",
       "      <td>7.200000</td>\n",
       "      <td>10.900000</td>\n",
       "      <td>28.800000</td>\n",
       "    </tr>\n",
       "    <tr>\n",
       "      <th>max</th>\n",
       "      <td>21.500000</td>\n",
       "      <td>54.000000</td>\n",
       "      <td>9.000000</td>\n",
       "      <td>20.000000</td>\n",
       "      <td>47.000000</td>\n",
       "      <td>29.400000</td>\n",
       "      <td>4.200000</td>\n",
       "      <td>6.900000</td>\n",
       "      <td>8.400000</td>\n",
       "      <td>6.900000</td>\n",
       "      <td>...</td>\n",
       "      <td>52.700000</td>\n",
       "      <td>14.900000</td>\n",
       "      <td>71.500000</td>\n",
       "      <td>51.100000</td>\n",
       "      <td>0.770000</td>\n",
       "      <td>99.100000</td>\n",
       "      <td>7.800000</td>\n",
       "      <td>35.600000</td>\n",
       "      <td>28.800000</td>\n",
       "      <td>60.300000</td>\n",
       "    </tr>\n",
       "  </tbody>\n",
       "</table>\n",
       "<p>4 rows × 43 columns</p>\n",
       "</div>"
      ],
      "text/plain": [
       "      area_sqmi  count_hosp_clinic  count_libraries  count_parks  \\\n",
       "mean   4.613559          22.898305         3.677966     6.915254   \n",
       "std    4.295164          13.101323         1.665478     4.035567   \n",
       "min    1.400000           1.000000         1.000000     1.000000   \n",
       "max   21.500000          54.000000         9.000000    20.000000   \n",
       "\n",
       "      count_public_schools  crime_per_1000  female_15_19  female_20_24  \\\n",
       "mean             25.694915       10.205085      2.720339      3.540678   \n",
       "std               8.987068        4.627594      0.683243      0.844887   \n",
       "min               8.000000        2.600000      1.100000      1.800000   \n",
       "max              47.000000       29.400000      4.200000      6.900000   \n",
       "\n",
       "      female_25_29  female_30_34  ...  pct_asian_nh  pct_other_nh  \\\n",
       "mean      4.883051      4.398305  ...     13.088136      2.927119   \n",
       "std       1.364848      1.113629  ...     12.294884      2.074129   \n",
       "min       2.900000      3.000000  ...      0.700000      1.200000   \n",
       "max       8.400000      6.900000  ...     52.700000     14.900000   \n",
       "\n",
       "      pct_hispanic  mean_commute  pop_change_00_10  pct_clean_strts  \\\n",
       "mean     29.898305     41.238983          0.038475        94.064407   \n",
       "std      20.544053      6.309572          0.111801         3.076146   \n",
       "min       6.500000     25.400000         -0.100000        85.100000   \n",
       "max      71.500000     51.100000          0.770000        99.100000   \n",
       "\n",
       "      unemployment  poverty_rate  lep_rate_boro  pct_hh_rent_burd  \n",
       "mean      4.513559     19.940678      23.049153         44.723729  \n",
       "std       1.465518      6.824982       5.305637          7.550322  \n",
       "min       2.000000      7.200000      10.900000         28.800000  \n",
       "max       7.800000     35.600000      28.800000         60.300000  \n",
       "\n",
       "[4 rows x 43 columns]"
      ]
     },
     "execution_count": 66,
     "metadata": {},
     "output_type": "execute_result"
    }
   ],
   "source": [
    "#Summary statistics for each of the numeric variables in the indicators dataset\n",
    "indicators_df.describe().loc[['mean','std','min','max']]"
   ]
  },
  {
   "cell_type": "markdown",
   "id": "731170df",
   "metadata": {},
   "source": [
    "We can see that the average size of a community district is 4.6 miles, and that the average percentage of men and women in their 20s and 30s are higher than percentages for other age groups. On average, white residents make up about a third of the community districts' population, followed by hispanic, black, and asian residents. The average poverty rate is 19%, the average unemployment rate is 4.5%, and the average crime rate (for 7 major felonies) per 1000 residents is about 10.\n",
    "\n",
    "We'll format the community district column in this dataset such that it can be merged with the community board column in the 311 dataset. In NYC, community districts and their corresponding boards share the same number and borough. According to the webpage for Queens Community Board 3, \"each community district has a Community Board to oversee the delivery of city services and facilitate local governance.\" Currently, the values for community boards in df and community districts in ind_df are formatted differently:"
   ]
  },
  {
   "cell_type": "code",
   "execution_count": 67,
   "id": "7f778fae",
   "metadata": {},
   "outputs": [
    {
     "data": {
      "text/plain": [
       "830906        10 BRONX\n",
       "830905        05 BRONX\n",
       "830904        09 BRONX\n",
       "830903     04 BROOKLYN\n",
       "830902    10 MANHATTAN\n",
       "830901     10 BROOKLYN\n",
       "830900       07 QUEENS\n",
       "830899     03 BROOKLYN\n",
       "830898       04 QUEENS\n",
       "830897       05 QUEENS\n",
       "Name: community_board, dtype: object"
      ]
     },
     "execution_count": 67,
     "metadata": {},
     "output_type": "execute_result"
    }
   ],
   "source": [
    "df.community_board[0:10]"
   ]
  },
  {
   "cell_type": "code",
   "execution_count": 68,
   "id": "c69164d8",
   "metadata": {},
   "outputs": [
    {
     "data": {
      "text/plain": [
       "0     Manhattan CD 1\n",
       "1     Manhattan CD 2\n",
       "2     Manhattan CD 3\n",
       "3     Manhattan CD 4\n",
       "4     Manhattan CD 5\n",
       "5     Manhattan CD 6\n",
       "6     Manhattan CD 7\n",
       "7     Manhattan CD 8\n",
       "8     Manhattan CD 9\n",
       "9    Manhattan CD 10\n",
       "Name: cd_short_title, dtype: object"
      ]
     },
     "execution_count": 68,
     "metadata": {},
     "output_type": "execute_result"
    }
   ],
   "source": [
    "indicators_df.cd_short_title[0:10]"
   ]
  },
  {
   "cell_type": "code",
   "execution_count": 69,
   "id": "0d2e779e",
   "metadata": {},
   "outputs": [],
   "source": [
    "#format community district string values so that they match community board vals \n",
    "\n",
    "pd.options.mode.chained_assignment = None \n",
    "\n",
    "for row in indicators_df.index:\n",
    "    upper = indicators_df.at[row, \"cd_short_title\"].upper().replace(' CD','')\n",
    "    num_first = \"{}\".format(upper[-2:] + ' ' + upper[:-2]).strip()\n",
    "    indicators_df.cd_short_title.loc[row] = num_first"
   ]
  },
  {
   "cell_type": "markdown",
   "id": "f0590490",
   "metadata": {},
   "source": [
    "The below function removes all 0's from the beginning of single-digit community board numbers in the 311 dataset. The subsequent list comprehension uses the function to update each value in the community board column."
   ]
  },
  {
   "cell_type": "code",
   "execution_count": 70,
   "id": "2695313f",
   "metadata": {},
   "outputs": [],
   "source": [
    "def format_cb(cb_string):\n",
    "\n",
    "  \"\"\"Takes in a string value for a community board in the 311 dataframe. If the \n",
    "     string starts with '0', updates the string to contain every letter after 0.\"\"\"  \n",
    "  \n",
    "  if cb_string.startswith('0'):\n",
    "        return cb_string[1:]\n",
    "  else:\n",
    "        return cb_string"
   ]
  },
  {
   "cell_type": "code",
   "execution_count": 71,
   "id": "5cf71ac1",
   "metadata": {},
   "outputs": [],
   "source": [
    "df.community_board = [format_cb(i) for i in df.community_board]"
   ]
  },
  {
   "cell_type": "markdown",
   "id": "32db818d",
   "metadata": {},
   "source": [
    "The community board column contains more unique values than the community district column, as shown below."
   ]
  },
  {
   "cell_type": "code",
   "execution_count": 72,
   "id": "72d749c4",
   "metadata": {},
   "outputs": [
    {
     "data": {
      "text/plain": [
       "77"
      ]
     },
     "execution_count": 72,
     "metadata": {},
     "output_type": "execute_result"
    }
   ],
   "source": [
    "len(df.community_board.unique())"
   ]
  },
  {
   "cell_type": "code",
   "execution_count": 73,
   "id": "37d6fc3a",
   "metadata": {},
   "outputs": [
    {
     "data": {
      "text/plain": [
       "59"
      ]
     },
     "execution_count": 73,
     "metadata": {},
     "output_type": "execute_result"
    }
   ],
   "source": [
    "len(indicators_df.cd_short_title.unique())"
   ]
  },
  {
   "cell_type": "markdown",
   "id": "7bd36673",
   "metadata": {},
   "source": [
    "We'll remove rows that contain unmatching value through these steps:\n",
    "1) Labelling the non-matches data; then\n",
    "2) Overwriting the 311 dataset to exclude those non-matches data."
   ]
  },
  {
   "cell_type": "code",
   "execution_count": 76,
   "id": "00b86c8a",
   "metadata": {},
   "outputs": [],
   "source": [
    "# Defining the non-matches data\n",
    "def label_non_match(cb):\n",
    "\n",
    "  if cb in indicators_df.cd_short_title.unique():\n",
    "        return cb \n",
    "  \n",
    "  else:\n",
    "        return 'Non-match'"
   ]
  },
  {
   "cell_type": "code",
   "execution_count": 77,
   "id": "c3d53c2f",
   "metadata": {},
   "outputs": [],
   "source": [
    "df.community_board = df.community_board.map(lambda cb: label_non_match(cb))"
   ]
  },
  {
   "cell_type": "code",
   "execution_count": 78,
   "id": "2c3d3a96",
   "metadata": {},
   "outputs": [],
   "source": [
    "# Exclude the non-matches data\n",
    "df = df[df.community_board != 'Non-match']"
   ]
  },
  {
   "cell_type": "markdown",
   "id": "578e8779",
   "metadata": {},
   "source": [
    "Now that all of the community district/board values have a match in both columns, we can create a column with a matching title in the indicators dataframe and perform an inner join with the 311 dataframe."
   ]
  },
  {
   "cell_type": "code",
   "execution_count": 79,
   "id": "12539b1e",
   "metadata": {},
   "outputs": [],
   "source": [
    "# Create new column with matching name to join data, and drop duplicate column\n",
    "indicators_df['community_board'] = indicators_df.cd_short_title\n",
    "df = pd.merge(df, indicators_df, how='inner')\n",
    "\n",
    "df.drop(\"cd_short_title\", axis=1, inplace=True)"
   ]
  },
  {
   "cell_type": "markdown",
   "id": "04103d2c",
   "metadata": {},
   "source": [
    "## Exporting the Data"
   ]
  },
  {
   "cell_type": "markdown",
   "id": "dfab4e36",
   "metadata": {},
   "source": [
    "Then, I exported the dataframes that will be used for visualization."
   ]
  },
  {
   "cell_type": "code",
   "execution_count": 80,
   "id": "e95a0651",
   "metadata": {},
   "outputs": [],
   "source": [
    "df.to_csv('../nfh2118/Assignment 02/community_board_311.csv', header=True)"
   ]
  },
  {
   "cell_type": "code",
   "execution_count": null,
   "id": "2c6c92ca",
   "metadata": {},
   "outputs": [],
   "source": []
  }
 ],
 "metadata": {
  "kernelspec": {
   "display_name": "Python 3",
   "language": "python",
   "name": "python3"
  },
  "language_info": {
   "codemirror_mode": {
    "name": "ipython",
    "version": 3
   },
   "file_extension": ".py",
   "mimetype": "text/x-python",
   "name": "python",
   "nbconvert_exporter": "python",
   "pygments_lexer": "ipython3",
   "version": "3.8.8"
  }
 },
 "nbformat": 4,
 "nbformat_minor": 5
}
